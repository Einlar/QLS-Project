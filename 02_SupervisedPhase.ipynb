{
 "cells": [
  {
   "cell_type": "code",
   "execution_count": 1,
   "id": "operating-discussion",
   "metadata": {},
   "outputs": [],
   "source": [
    "import torch\n",
    "import torch.nn as nn\n",
    "import torch.nn.functional as F\n",
    "\n",
    "import numpy as np\n",
    "\n",
    "from torch.utils.data import TensorDataset, DataLoader\n",
    "from torch.optim import Adam\n",
    "\n",
    "from ignite.engine import Events, create_supervised_trainer, create_supervised_evaluator\n",
    "from ignite.metrics import Accuracy, Loss\n",
    "\n",
    "import scipy.io\n",
    "\n",
    "from time import time\n",
    "\n",
    "from tqdm.notebook import tqdm"
   ]
  },
  {
   "cell_type": "code",
   "execution_count": 2,
   "id": "unable-reverse",
   "metadata": {},
   "outputs": [],
   "source": [
    "class BioNet(nn.Module):\n",
    "    def __init__(self,\n",
    "                 weights : torch.Tensor,\n",
    "                 output_dim : int,\n",
    "                 n : float = 4.5,\n",
    "                 beta : float =.01):\n",
    "        \n",
    "        \"\"\"\n",
    "        Simple MNIST classifier initialized with weights from the unsupervised (bio)learning algorithm for the first layer.\n",
    "        \n",
    "        Parameters\n",
    "        ----------\n",
    "        weights : torch.Tensor of shape (output_dim, input_dim)\n",
    "            Weights computed from unsupervised learning.\n",
    "        output_dim : int\n",
    "            Number of classes (10 for MNIST)\n",
    "        n : float\n",
    "            Exponent of ReLU\n",
    "        beta : float\n",
    "            \"Inverse temperature\" for tanh activation in the top layer.\n",
    "        \"\"\"\n",
    "        \n",
    "        super().__init__()\n",
    "        self.weights = torch.t(weights) #shape (output_dim, input_dim) -> (input_dim, output_dim)\n",
    "        #[Because batch_size is the first dimension of inputs, and so it is convenient to transpose the weights\n",
    "        #so that a single matrix multiplication works for the entire batch]\n",
    "        \n",
    "        self.n = n\n",
    "        self.beta = beta\n",
    "        self.top = nn.Linear(weights.size(0), output_dim, bias=False)\n",
    "        \n",
    "    def forward(self, inputs : torch.Tensor): # vᵢ: (batch_sz, img_sz)\n",
    "        \"\"\"\n",
    "        Parameters\n",
    "        ----------\n",
    "        inputs : torch.Tensor of shape (batch_size, input_dim)\n",
    "            Batch of input values\n",
    "        \"\"\"\n",
    "        \n",
    "        out = torch.matmul(inputs, self.weights) \n",
    "        out = F.relu(out) ** self.n\n",
    "        out = self.top(out)\n",
    "        out = torch.tanh(self.beta * out)\n",
    "        \n",
    "        return out\n",
    "    \n",
    "class BioLoss(nn.Module):\n",
    "    \"\"\"Loss introduced in eq. 12 of [1]\n",
    "    \n",
    "    [1]: \"Unsupervised learning by competing hidden units\", D. Krotov, J. J. Hopfield, 2019, \n",
    "         https://www.pnas.org/content/116/16/7723\n",
    "    \"\"\"\n",
    "    \n",
    "    def __init__(self,\n",
    "                 output_dim : int = 10,\n",
    "                 m : int = 6):\n",
    "        \n",
    "        super().__init__()\n",
    "        \n",
    "        self.output_dim = output_dim\n",
    "        self.m = m\n",
    "\n",
    "    def forward(self, predicted, true_val): \n",
    "        one_hot = torch.eye(self.output_dim, dtype=torch.float, device=predicted.device)[true_val]\n",
    "        #Convert true values to one hot encoding\n",
    "        one_hot[one_hot == 0] = -1 #Substitute 0s with -1 (spin-like one hot encoding)\n",
    "        \n",
    "        loss = (predicted - one_hot).abs() ** self.m\n",
    "        \n",
    "        return torch.sum(loss)"
   ]
  },
  {
   "cell_type": "code",
   "execution_count": 3,
   "id": "virtual-silly",
   "metadata": {},
   "outputs": [],
   "source": [
    "def run_test(train_X, train_y, test_X, test_y, model, epochs, loss, batch_size=64, lr=1e-3, verbose=0):\n",
    "    #From https://github.com/gatapia/unsupervised_bio_classifier/blob/master/src/bio_learn2.py\n",
    "    #(Standard training code)\n",
    "    \n",
    "    start = time()\n",
    "    train_ds = TensorDataset(train_X, train_y)\n",
    "    train_dl = DataLoader(train_ds, batch_size=batch_size, shuffle=True)\n",
    "    test_ds = TensorDataset(test_X, test_y)\n",
    "    test_dl = DataLoader(test_ds, batch_size=batch_size, shuffle=False)\n",
    "        \n",
    "    optimizer = Adam(model.parameters(), lr=lr)    \n",
    "    trainer = create_supervised_trainer(model, optimizer, loss, device='cuda')\n",
    "    evaluator = create_supervised_evaluator(model, metrics={'accuracy': Accuracy(), 'loss': Loss(loss)}, device='cuda')\n",
    "    \n",
    "    pbar = tqdm(initial=0, leave=False, total=epochs, desc=f\"ITERATION\") #Progress bar\n",
    "    \n",
    "    train_err = []\n",
    "    test_err  = []\n",
    "    \n",
    "    @trainer.on(Events.EPOCH_COMPLETED)\n",
    "    def log_epoch(trainer):\n",
    "        evaluator.run(train_dl)\n",
    "        metrics = evaluator.state.metrics\n",
    "        train_acc = metrics['accuracy']\n",
    "        \n",
    "        evaluator.run(test_dl)\n",
    "        metrics = evaluator.state.metrics\n",
    "        test_acc = metrics['accuracy']\n",
    "        \n",
    "        train_err.append( 100 * (1. - train_acc) )\n",
    "        test_err.append( 100 * (1. - test_acc ) )\n",
    "        \n",
    "        pbar.desc = f\"ITERATION - accuracy (train): {train_acc:.3f} - accuracy (test) : {test_acc:.3f}\"\n",
    "        pbar.update(1)\n",
    "\n",
    "    @trainer.on(Events.COMPLETED)\n",
    "    def log_complete(engine):\n",
    "        evaluator.run(test_dl)        \n",
    "        print(\"Final Accuracy: {:.2f} Took: {:.0f}s\".format(evaluator.state.metrics['accuracy'], time() - start))\n",
    "\n",
    "    trainer.run(train_dl, max_epochs=epochs) \n",
    "    \n",
    "    return train_err, test_err"
   ]
  },
  {
   "cell_type": "code",
   "execution_count": 4,
   "id": "interesting-afternoon",
   "metadata": {},
   "outputs": [],
   "source": [
    "def get_data(data_type):\n",
    "    mat = scipy.io.loadmat('mnist_all.mat')\n",
    "    X=torch.zeros((0, 28 * 28), dtype=torch.float)\n",
    "    y=torch.zeros(0, dtype=torch.long)\n",
    "    for i in range(10): \n",
    "        X_i = torch.from_numpy(mat[data_type + str(i)].astype(np.float64)).float()\n",
    "        X = torch.cat((X, X_i))\n",
    "        y_i = torch.full(size=(len(X_i),), fill_value=i, dtype=torch.long)\n",
    "        y = torch.cat((y, y_i))\n",
    "    return X / 255.0, y"
   ]
  },
  {
   "cell_type": "code",
   "execution_count": 5,
   "id": "incorrect-wrestling",
   "metadata": {},
   "outputs": [],
   "source": [
    "weights = torch.load(\"models/unsupervised_weights\") #Load saved weights"
   ]
  },
  {
   "cell_type": "code",
   "execution_count": 6,
   "id": "played-universe",
   "metadata": {},
   "outputs": [
    {
     "name": "stdout",
     "output_type": "stream",
     "text": [
      "train_data, test_data: torch.Size([60000, 784]) torch.Size([60000]) torch.Size([10000, 784]) torch.Size([10000])\n"
     ]
    }
   ],
   "source": [
    "(train_X, train_y), (test_X, test_y) = get_data('train'), get_data('test')\n",
    "print('train_data, test_data:', train_X.shape, train_y.shape, test_X.shape, test_y.shape) #Load dataset"
   ]
  },
  {
   "cell_type": "code",
   "execution_count": 8,
   "id": "tutorial-restoration",
   "metadata": {},
   "outputs": [
    {
     "data": {
      "application/vnd.jupyter.widget-view+json": {
       "model_id": "f602f86558634ebaa9b561dc9f94bad1",
       "version_major": 2,
       "version_minor": 0
      },
      "text/plain": [
       "ITERATION:   0%|          | 0/30 [00:00<?, ?it/s]"
      ]
     },
     "metadata": {},
     "output_type": "display_data"
    },
    {
     "name": "stdout",
     "output_type": "stream",
     "text": [
      "Final Accuracy: 0.97 Took: 198s\n"
     ]
    }
   ],
   "source": [
    "#Supervised training of top layer\n",
    "n_classes = 10\n",
    "model = BioNet(weights.float().cuda(), n_classes, beta=.001).cuda() #Remove .cuda() everywhere in this line to train on CPU only\n",
    "train_err, test_err = run_test(train_X, train_y, test_X, test_y, model, epochs=30, loss=BioLoss(n_classes), batch_size=100, lr=1e-4)  "
   ]
  },
  {
   "cell_type": "code",
   "execution_count": 10,
   "id": "sixth-sailing",
   "metadata": {},
   "outputs": [
    {
     "data": {
      "image/png": "[encoded data removed]",
      "text/plain": [
       "<Figure size 222.236x137.349 with 1 Axes>"
      ]
     },
     "metadata": {
      "needs_background": "light"
     },
     "output_type": "display_data"
    }
   ],
   "source": [
    "import matplotlib.pyplot as plt\n",
    "from mpl2latex import mpl2latex, latex_figsize\n",
    "\n",
    "with mpl2latex(True):\n",
    "    fig = plt.figure(figsize=latex_figsize(wf=.7, columnwidth=318.67))\n",
    "    \n",
    "    epochs = np.arange(len(train_err))\n",
    "    plt.plot(epochs, train_err, label=\"Train\")\n",
    "    plt.plot(epochs, test_err, label=\"Test\")\n",
    "    \n",
    "    plt.xlabel(\"Epoch\")\n",
    "    plt.ylabel(\"Error [\\%]\")\n",
    "    \n",
    "    plt.legend()\n",
    "    plt.show()\n",
    "    fig.savefig(\"Plots/supervised_learning.pdf\", transparent=True, bbox_inches='tight')"
   ]
  },
  {
   "cell_type": "code",
   "execution_count": null,
   "id": "southeast-nursing",
   "metadata": {},
   "outputs": [],
   "source": []
  }
 ],
 "metadata": {
  "kernelspec": {
   "display_name": "Python 3",
   "language": "python",
   "name": "python3"
  },
  "language_info": {
   "codemirror_mode": {
    "name": "ipython",
    "version": 3
   },
   "file_extension": ".py",
   "mimetype": "text/x-python",
   "name": "python",
   "nbconvert_exporter": "python",
   "pygments_lexer": "ipython3",
   "version": "3.9.0"
  }
 },
 "nbformat": 4,
 "nbformat_minor": 5
}
